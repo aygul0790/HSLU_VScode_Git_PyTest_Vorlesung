{
 "cells": [
  {
   "cell_type": "markdown",
   "metadata": {},
   "source": [
    "# 8.1. Visual Studio Code für Python"
   ]
  },
  {
   "cell_type": "markdown",
   "metadata": {},
   "source": [
    "<font size=\"5\"> Warum VS Code für Python verwenden? </font>"
   ]
  },
  {
   "cell_type": "markdown",
   "metadata": {},
   "source": [
    "<font size = \"3.5\"> [Visual Studio Code](https://code.visualstudio.com/) ist eine perfekte integrierte Entwicklungsumgebung (IDE) für Python. Es ist einfach und verfügt über integrierte Funktionen, die die Entwicklungserfahrung verbessern. \n",
    "\n",
    "VS Code Python-Erweiterungen verfügen über leistungsstarke Funktionen wie automatische Syntaxvervollständigung, Linting, Debugging, Unit-Tests, GitOps, virtuelle Umgebungen, Notizbücher (Jupyter Notebook), Bearbeitungswerkzeuge und die Möglichkeit, den Editor anzupassen.  \n",
    "\n",
    "Hauptmerkmale:\n",
    "\n",
    "- Befehlspalette für den Zugriff auf alle Befehle durch Eingabe von Schlüsselwörtern. (Ctrl+Shift+P) \n",
    "- Vollständig anpassbare Tastaturkürzel ([fur Windows](https://code.visualstudio.com/shortcuts/keyboard-shortcuts-windows.pdf), [für MacOS](https://code.visualstudio.com/shortcuts/keyboard-shortcuts-macos.pdf))\n",
    "- Jupyter-Erweiterung für Data Science. Ausführen von Jupyter-Notizbüchern innerhalb der IDE.\n",
    "- Automatisches Linting und Formatierung.\n",
    "- Fehlersuche und Testen.\n",
    "- Git-Integration.\n",
    "- Verbesserte Bearbeitungswerkzeuge: Multi-Cursor-Auswahl, Spaltenauswahl, Gliederungsansicht, Side-by-Side-Vorschau sowie Suchen und Ändern.\n",
    "\n",
    "In diesem Tutorial werden wir mit VS Code beginnen und dann ein Python-Skript in VS Code ausführen. Danach werden wir den Editor anpassen, um die Erfahrung der Python-Entwicklung zu verbessern, indem wir wichtige Erweiterungen installieren und die eingebauten Funktionen kennenlernen. Zum Schluss werden wir uns mit Python-Produktivitätshacks beschäftigen."
   ]
  },
  {
   "cell_type": "markdown",
   "metadata": {},
   "source": [
    "<font size=\"5\"> VS Code Installation </font>"
   ]
  },
  {
   "cell_type": "markdown",
   "metadata": {},
   "source": [
    "<font size = \"3.5\"> \n",
    "\n",
    "Die Installation von VS Code ist super einfach. Laden Sie die stabile Version von der [offiziellen Website](https://code.visualstudio.com/) herunter und installieren Sie sie. Das Installationsprogramm ist für alle Arten von Betriebssystemen, einschließlich Webbrowsern, verfügbar. \n",
    "\n",
    "</font>"
   ]
  },
  {
   "cell_type": "markdown",
   "metadata": {},
   "source": [
    "<font size=\"5\"> Python (Anaconda Distribution) + VS Code \n",
    "</font>"
   ]
  },
  {
   "cell_type": "markdown",
   "metadata": {},
   "source": [
    "<font size=\"3.5\">\n",
    "Die beliebteste Art, Python zu installieren, ist die Anaconda Distribution. Sie wird mit einem vorinstallierten Paket und Software geliefert, damit wir ohne Probleme mit der Programmierung beginnen können. Sie ist für die Betriebssysteme Windows, macOS und Linux verfügbar.\n",
    "</font>"
   ]
  },
  {
   "cell_type": "markdown",
   "metadata": {},
   "source": [
    "<font size=\"5\"> Ausführen des Python-Codes in der IDE? </font>"
   ]
  },
  {
   "cell_type": "markdown",
   "metadata": {},
   "source": [
    "<font size=\"3.5\"> Beim Start sehen Sie den Begrüßungshinweis. Ignorieren Sie diese und gehen Sie zu File > New Text File oder verwenden Sie die Tastenkombination Ctrl + N, um eine neue Datei zu erstellen. Danach schreiben Sie einen einfachen Druckausdruck, der \"Hello World\" anzeigt. \n",
    "\n",
    "Speichern Sie die Datei mit Ctrl + S. Wählen Sie das Dateiverzeichnis und geben Sie den Dateinamen ein. Achten Sie darauf, am Ende des Dateinamens `.py` hinzuzufügen.\n",
    "\n",
    "</font>"
   ]
  },
  {
   "cell_type": "markdown",
   "metadata": {},
   "source": [
    "![Example image](Save_Python_file.png)"
   ]
  },
  {
   "cell_type": "markdown",
   "metadata": {},
   "source": [
    "<font size=\"3.5\"> Um die Python-Datei auszuführen, müssen wir den Python-Interpreter auswählen. Standardmäßig wird die Anaconda-Umgebung mit der Python-Version 3.9.13 ausgeliefert.</font>"
   ]
  },
  {
   "cell_type": "markdown",
   "metadata": {},
   "source": [
    "![Example image](Select_Interpreter.png)"
   ]
  },
  {
   "cell_type": "markdown",
   "metadata": {},
   "source": [
    "<font size=\"3.5\"> Um die Python-Datei auszuführen, klicken Sie einfach auf die Schaltfläche Ausführen oben links. Dadurch wird das Terminal initialisiert und die Python-Datei ausgeführt, um die Ausgabe anzuzeigen. \n",
    "\n",
    "Sie können auch python test.py in das Terminal eingeben, um die Datei im aktuellen Verzeichnis auszuführen (erst clicken Sie Terminal > New Terminal). </font>"
   ]
  }
 ],
 "metadata": {
  "kernelspec": {
   "display_name": "lewagon",
   "language": "python",
   "name": "python3"
  },
  "language_info": {
   "name": "python",
   "version": "3.10.6"
  }
 },
 "nbformat": 4,
 "nbformat_minor": 2
}
