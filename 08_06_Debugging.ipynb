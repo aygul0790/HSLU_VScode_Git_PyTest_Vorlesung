{
 "cells": [
  {
   "cell_type": "markdown",
   "metadata": {},
   "source": [
    "# 8.6 Debugging"
   ]
  },
  {
   "cell_type": "markdown",
   "metadata": {},
   "source": [
    "<font size = \"3.5\">\n",
    "\n",
    "Die Python-Erweiterung bietet Debugging für alle Arten von Anwendungen. Wir können Haltepunkte setzen, Daten untersuchen und Programme Schritt für Schritt ausführen.\n",
    "\n",
    "Starten Sie die Debug-Registerkarte, indem Sie auf das Debug-Symbol in der Aktionsleiste klicken oder den Tastaturkurzbefehl Ctrl + Shift + D verwenden. Um die Debug-Optionen anzupassen, klicken Sie auf create a launch.json file und wählen Sie Python File.\n",
    "\n",
    "</font>"
   ]
  },
  {
   "cell_type": "markdown",
   "metadata": {},
   "source": [
    "![Example image](debug_configuration.png)"
   ]
  },
  {
   "cell_type": "markdown",
   "metadata": {},
   "source": [
    "![Example image](Debug_Panel.png)"
   ]
  },
  {
   "cell_type": "markdown",
   "metadata": {},
   "source": [
    "<font size=\"3.5\">\n",
    "\n",
    "Documentation: https://code.visualstudio.com/docs/python/debugging\n",
    "\n",
    "</font>"
   ]
  },
  {
   "cell_type": "markdown",
   "metadata": {},
   "source": [
    "<font size=\"5\">\n",
    "\n",
    "Basic Debugging\n",
    "\n",
    "</font>"
   ]
  },
  {
   "cell_type": "markdown",
   "metadata": {},
   "source": [
    "![Example image](debug-button-editor.png)"
   ]
  }
 ],
 "metadata": {
  "language_info": {
   "name": "python"
  }
 },
 "nbformat": 4,
 "nbformat_minor": 2
}
