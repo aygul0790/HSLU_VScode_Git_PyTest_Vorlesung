{
 "cells": [
  {
   "cell_type": "markdown",
   "metadata": {},
   "source": [
    "# 8.5 Unit Testing mit Pytest"
   ]
  },
  {
   "cell_type": "markdown",
   "metadata": {},
   "source": [
    "<font size=\"3.5\">\n",
    "\n",
    "Testen ist ein wichtiges Thema in der Softwareentwicklung. Bevor ein Softwareprodukt in die Hände eines Endbenutzers kommt, wird es wahrscheinlich mehrere Tests durchlaufen haben. \n",
    "\n",
    "In letzter Zeit hat das Interesse an der testgetriebenen Entwicklung (TDD) unter den Entwicklern stark zugenommen. Die Grundidee ist, dass der traditionelle Prozess der Entwicklung und des Testens umgekehrt wird - Sie schreiben zuerst Ihre Unit-Tests und implementieren dann Codeänderungen, bis die Tests erfolgreich sind. \n",
    "\n",
    "In dieser Vorlesung werden wir uns auf Unit-Tests konzentrieren und speziell darauf, wie man sie mit einem beliebten Python-Test-Framework namens Pytest durchführt.\n",
    "\n",
    "</font>"
   ]
  },
  {
   "cell_type": "markdown",
   "metadata": {},
   "source": [
    "<font size = \"5\">\n",
    "Was sind Unit-Tests?\n",
    "</font>"
   ]
  },
  {
   "cell_type": "markdown",
   "metadata": {},
   "source": [
    "<font size=\"3.5\">\n",
    "\n",
    "Unit-Tests sind eine Form von automatisierten Tests - das bedeutet einfach, dass der Testplan von einem Skript und nicht manuell von einem Menschen ausgeführt wird. Sie bilden die erste Ebene der Softwaretests und werden in der Regel in Form von Funktionen geschrieben, die das Verhalten verschiedener Funktionalitäten innerhalb eines Softwareprogramms überprüfen. \n",
    "\n",
    "\n",
    "Die Idee hinter diesen Tests ist es, Entwicklern die Möglichkeit zu geben, die kleinste Codeeinheit zu isolieren, die logisch sinnvoll ist, und zu testen, ob sie sich wie erwartet verhält. Mit anderen Worten: Unit-Tests überprüfen, ob die einzelnen Komponenten eines Softwareprogramms so funktionieren, wie es die Entwickler beabsichtigt haben. \n",
    "\n",
    "\n",
    "Idealerweise sollten diese Tests ziemlich klein sein - je kleiner, desto besser. Ein Grund für die Erstellung kleinerer Tests ist, dass der Test effizienter ist, da der Testcode bei kleineren Einheiten viel schneller ausgeführt werden kann. Ein weiterer Grund für das Testen kleinerer Komponenten ist, dass Sie dadurch einen besseren Einblick in das Verhalten des granularen Codes beim Zusammenführen erhalten.\n",
    "\n",
    "</font>"
   ]
  },
  {
   "cell_type": "markdown",
   "metadata": {},
   "source": [
    "<font size=\"5\">\n",
    "\n",
    "Warum brauchen wir Unit-Tests?\n",
    "\n",
    "</font>"
   ]
  },
  {
   "cell_type": "markdown",
   "metadata": {},
   "source": [
    "<font size=\"3.5\">\n",
    "\n",
    "Die allgemeine Begründung für die Notwendigkeit von Unit-Tests ist, dass Entwickler sicherstellen müssen, dass der von ihnen geschriebene Code den Qualitätsstandards entspricht, bevor er in die Produktionsumgebung gelangen kann. Es gibt jedoch noch weitere Faktoren, die für die Notwendigkeit von Unit-Tests sprechen. \n",
    "\n",
    "- Spart Ressourcen \n",
    "\n",
    "Die Durchführung von Unit-Tests hilft den Entwicklern, Codefehler bereits in der Softwareerstellungsphase zu erkennen, so dass sie nicht in den weiteren Entwicklungszyklus übergehen müssen. \n",
    "\n",
    "- Zusätzliche Dokumentation \n",
    "\n",
    "Eine weitere gute Begründung für die Durchführung von Unit-Tests ist, dass sie als zusätzliche Ebene der lebendigen Dokumentation für Ihr Softwareprodukt dienen.\n",
    "\n",
    "- Vertrauen \n",
    "\n",
    "Man kann mit Fug und Recht behaupten, dass \"Code, der mit Unit-Tests versehen ist, als zuverlässiger angesehen werden kann als Code, der nicht damit versehen ist.\" \n",
    "\n",
    "</font>"
   ]
  },
  {
   "cell_type": "markdown",
   "metadata": {},
   "source": [
    "<font size=\"5\">\n",
    "Pytest\n",
    "</font>"
   ]
  },
  {
   "cell_type": "markdown",
   "metadata": {},
   "source": [
    "<font size=\"3.5\">\n",
    "Pytest ist wahrscheinlich das am weitesten verbreitete Python-Testframework überhaupt - das bedeutet, dass es eine große Community hat, die Sie unterstützt, wenn Sie nicht weiterkommen. \n",
    "\n",
    "\n",
    "Es ist ein Open-Source-Framework, das es Entwicklern ermöglicht, einfache, kompakte Testsuiten zu schreiben und gleichzeitig Unit-Tests, funktionale Tests und API-Tests zu unterstützen.\n",
    "</font>"
   ]
  },
  {
   "cell_type": "markdown",
   "metadata": {},
   "source": [
    "<font size=\"5\">\n",
    "\n",
    "Pytest Installation\n",
    "\n",
    "</font>"
   ]
  },
  {
   "cell_type": "markdown",
   "metadata": {},
   "source": [
    "<font size=\"3.5\">\n",
    "\n",
    "conda install -c anaconda pytest \n",
    "\n",
    "or\n",
    "\n",
    "pip install pytest\n",
    "\n",
    "</font>"
   ]
  },
  {
   "cell_type": "markdown",
   "metadata": {},
   "source": [
    "<font size=\"3.5\">\n",
    "\n",
    "Documentation: https://anaconda.org/anaconda/pytest\n",
    "\n",
    "</font>"
   ]
  },
  {
   "cell_type": "markdown",
   "metadata": {},
   "source": [
    "<font size=\"5\"> Beispiel </font>"
   ]
  },
  {
   "cell_type": "code",
   "execution_count": 8,
   "metadata": {},
   "outputs": [],
   "source": [
    "\"\"\"\n",
    "An example test case with pytest.\n",
    "See: https://docs.pytest.org/en/6.2.x/index.html\n",
    "\"\"\"\n",
    "\n",
    "# content of inc.py function for incrementing a number\n",
    "\n",
    "def inc(x):\n",
    "    return x + 1\n"
   ]
  },
  {
   "cell_type": "markdown",
   "metadata": {},
   "source": [
    "<font size=\"3.5\">\n",
    "\n",
    "Bei Pytest müssen Sie nur eine Funktion mit \"test_\" Präfix definieren und die Assert-Bedingungen darin verwenden.\n",
    "\n",
    "</font>"
   ]
  },
  {
   "cell_type": "code",
   "execution_count": 3,
   "metadata": {},
   "outputs": [],
   "source": [
    "def test_answer():\n",
    "    assert inc(3) == 5\n"
   ]
  },
  {
   "cell_type": "code",
   "execution_count": 1,
   "metadata": {},
   "outputs": [
    {
     "name": "stdout",
     "output_type": "stream",
     "text": [
      "\u001b[1m============================= test session starts ==============================\u001b[0m\n",
      "platform linux -- Python 3.10.6, pytest-7.4.3, pluggy-1.3.0\n",
      "rootdir: /home/aygul_unix/Projects/HSLU_VScode_Git_PyTest_Vorlesung\n",
      "plugins: anyio-3.7.1\n",
      "collected 1 item                                                               \u001b[0m\n",
      "\n",
      "tests/test_answer.py \u001b[31mF\u001b[0m\u001b[31m                                                   [100%]\u001b[0m\n",
      "\n",
      "=================================== FAILURES ===================================\n",
      "\u001b[31m\u001b[1m_________________________________ test_answer __________________________________\u001b[0m\n",
      "\n",
      "    \u001b[94mdef\u001b[39;49;00m \u001b[92mtest_answer\u001b[39;49;00m():\u001b[90m\u001b[39;49;00m\n",
      ">       \u001b[94massert\u001b[39;49;00m inc(\u001b[94m3\u001b[39;49;00m) == \u001b[94m5\u001b[39;49;00m\u001b[90m\u001b[39;49;00m\n",
      "\u001b[1m\u001b[31mE       assert 4 == 5\u001b[0m\n",
      "\u001b[1m\u001b[31mE        +  where 4 = inc(3)\u001b[0m\n",
      "\n",
      "\u001b[1m\u001b[31mtests/test_answer.py\u001b[0m:5: AssertionError\n",
      "\u001b[36m\u001b[1m=========================== short test summary info ============================\u001b[0m\n",
      "\u001b[31mFAILED\u001b[0m tests/test_answer.py::\u001b[1mtest_answer\u001b[0m - assert 4 == 5\n",
      "\u001b[31m============================== \u001b[31m\u001b[1m1 failed\u001b[0m\u001b[31m in 0.11s\u001b[0m\u001b[31m ===============================\u001b[0m\n"
     ]
    }
   ],
   "source": [
    "# Run the test with pytest\n",
    "!pytest tests/test_answer.py # Ausrufzeichen für Jupyter Notebook\n"
   ]
  },
  {
   "cell_type": "markdown",
   "metadata": {},
   "source": [
    "<font size=\"3.5\">\n",
    "\n",
    "Der obige Testfall ist fehlgeschlagen, aber beachten Sie, wie detailliert die Aufschlüsselung des Fehlers ist. Das macht es für Entwickler einfacher, die Fehler in ihrem Code zu identifizieren, was bei der Fehlersuche sehr hilfreich ist.\n",
    "\n",
    "Als zusätzlichen Bonus gibt es auch einen Gesamtstatusbericht für die Testsuite, der uns die Anzahl der fehlgeschlagenen Tests und die dafür benötigte Zeit angibt.\n",
    "\n",
    "</font>"
   ]
  },
  {
   "cell_type": "markdown",
   "metadata": {},
   "source": [
    "<font size=\"5\">\n",
    "\n",
    "Pytest Parametrize\n",
    "\n",
    "</font>"
   ]
  },
  {
   "cell_type": "markdown",
   "metadata": {},
   "source": [
    "<font size=\"3.5\">\n",
    "\n",
    "Was ist, wenn Sie eine einzige Funktion mit leichten Variationen der Eingaben testen wollen? Eine Lösung besteht darin, mehrere verschiedene Tests mit unterschiedlichen Fällen zu schreiben.\n",
    "\n",
    "</font>"
   ]
  },
  {
   "cell_type": "code",
   "execution_count": null,
   "metadata": {},
   "outputs": [],
   "source": [
    "def test_eval_addition():\n",
    "    assert eval(\"2 + 2\") == 4\n",
    "\n",
    "def test_eval_subtraction():\n",
    "    assert eval(\"2 - 2\") == 0\n",
    "\n",
    "def test_eval_multiplication():\n",
    "    assert eval(\"2 * 2\") == 4\n",
    "\n",
    "def test_eval_division():\n",
    "    assert eval(\"2 / 2\") == 1.0\n"
   ]
  },
  {
   "cell_type": "markdown",
   "metadata": {},
   "source": [
    "<font size=\"3.5\">\n",
    "\n",
    "Diese Lösung funktioniert zwar, ist aber nicht die effizienteste.  Eine bessere Lösung ist es, den Dekorator pytest.mark.parametrize() zu verwenden, um die Parametrisierung von Argumenten für eine Testfunktion zu aktivieren. \n",
    "\n",
    "Dadurch können wir eine einzige Testdefinition definieren, und pytest testet dann die verschiedenen Parameter, die wir für uns angeben. \n",
    "\n",
    "Hier sehen Sie, wie wir den obigen Code umschreiben würden, wenn wir die Parametrisierung verwenden würden:\n",
    "\n",
    "</font>"
   ]
  },
  {
   "cell_type": "code",
   "execution_count": null,
   "metadata": {},
   "outputs": [],
   "source": [
    "import pytest\n",
    "\n",
    "@pytest.mark.parametrize(\"test_input, expected_output\", [(\"2+2\", 4), (\"2-2\", 0), (\"2*2\", 4), (\"2/2\", 1.0)])\n",
    "def test_eval(test_input, expected_output):\n",
    "    assert eval(test_input) == expected_output\n"
   ]
  },
  {
   "cell_type": "markdown",
   "metadata": {},
   "source": [
    "<font size=\"3.5\">\n",
    "\n",
    "Der @parametrize-Dekorator definiert vier verschiedene Testeingaben und erwartete Werte für die auszuführende Funktion test_eval - das bedeutet, dass die Funktion viermal ausgeführt wird, wobei jeder Wert nacheinander verwendet wird.\n",
    "\n",
    "</font>"
   ]
  },
  {
   "cell_type": "code",
   "execution_count": 12,
   "metadata": {},
   "outputs": [
    {
     "name": "stdout",
     "output_type": "stream",
     "text": [
      "4\n",
      "4\n"
     ]
    }
   ],
   "source": [
    "print(eval(\"2 + 2\"))\n",
    "print(eval(\"2*2\"))\n"
   ]
  },
  {
   "cell_type": "markdown",
   "metadata": {},
   "source": [
    "<font size=\"5\">\n",
    "\n",
    "Beispiel\n",
    "\n",
    "</font>"
   ]
  },
  {
   "cell_type": "code",
   "execution_count": null,
   "metadata": {},
   "outputs": [],
   "source": [
    "import datetime\n",
    "\n",
    "def get_age(yyyy:int, mm:int, dd:int) -> int:\n",
    "    dob = datetime.date(yyyy, mm, dd)\n",
    "    today = datetime.date.today()\n",
    "    age = round((today - dob).days / 365.25)\n",
    "    return age\n"
   ]
  },
  {
   "cell_type": "code",
   "execution_count": null,
   "metadata": {},
   "outputs": [],
   "source": [
    "from calculate_age import get_age\n",
    "\n",
    "def test_get_age():\n",
    "    # Given.\n",
    "    yyyy, mm, dd = map(int, \"1996/07/11\".split(\"\"))\n",
    "    # When.\n",
    "    age = get_age(yyyy, mm, dd)\n",
    "    # Then.\n",
    "    assert age == 26\n"
   ]
  }
 ],
 "metadata": {
  "kernelspec": {
   "display_name": "aygul",
   "language": "python",
   "name": "python3"
  },
  "language_info": {
   "codemirror_mode": {
    "name": "ipython",
    "version": 3
   },
   "file_extension": ".py",
   "mimetype": "text/x-python",
   "name": "python",
   "nbconvert_exporter": "python",
   "pygments_lexer": "ipython3",
   "version": "3.10.6"
  }
 },
 "nbformat": 4,
 "nbformat_minor": 2
}
