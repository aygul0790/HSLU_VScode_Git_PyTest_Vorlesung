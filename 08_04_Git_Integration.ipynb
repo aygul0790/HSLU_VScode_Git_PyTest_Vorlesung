{
 "cells": [
  {
   "cell_type": "markdown",
   "metadata": {},
   "source": [
    "# 8.4 Git Integration\n"
   ]
  },
  {
   "cell_type": "markdown",
   "metadata": {},
   "source": [
    "<font size=\"3.5\">\n",
    "\n",
    "VS Code verfügt über eine integrierte Git-Integration. Sie müssen keine Git-Befehle mehr auf Terminals schreiben. Die Git-Integration bietet eine benutzerfreundliche GUI und hilfreiche Funktionen für Diff, Views, Staging, Branching, Committing, Merge und mehr. \n",
    "\n",
    "Lesen Sie [Git Cheat Sheet](https://www.datacamp.com/cheat-sheet/git-cheat-sheet), um mehr über die verschiedenen Git-Befehle und -Funktionen zu erfahren.\n",
    "\n",
    "</font>"
   ]
  },
  {
   "cell_type": "markdown",
   "metadata": {},
   "source": [
    "<font size=\"3.5\">\n",
    "\n",
    "Hinweis: Um die Git-Integration zu aktivieren, müssen Sie Git von der [offiziellen Website](https://git-scm.com/downloads) installieren.\n",
    "\n",
    "</font>"
   ]
  },
  {
   "cell_type": "markdown",
   "metadata": {},
   "source": [
    "<font size=\"3.5\">\n",
    "\n",
    "Wir können sie über die Aktionsleiste oder mit dem Tastaturkürzel aufrufen: Ctrl + Shift + G. Bevor wir mit dem Übertragen beginnen, müssen wir das Repository initialisieren.\n",
    "\n",
    "</font>"
   ]
  },
  {
   "cell_type": "markdown",
   "metadata": {},
   "source": [
    "![Example image](Initializing_Git_.png)"
   ]
  },
  {
   "cell_type": "markdown",
   "metadata": {},
   "source": [
    "<font size=\"3.5\">\n",
    "\n",
    "Danach fügen Sie die Änderungen hinzu und bestätigen sie mit der Nachricht.\n",
    "\n",
    "</font>"
   ]
  },
  {
   "cell_type": "markdown",
   "metadata": {},
   "source": [
    "![Example image](Git_Commit_.png)"
   ]
  },
  {
   "cell_type": "markdown",
   "metadata": {},
   "source": [
    "<font size=\"5\">\n",
    "Wichtige Definitionen: Git, GitHub, git-spezifische Begriffe\n",
    "</font>"
   ]
  },
  {
   "cell_type": "markdown",
   "metadata": {},
   "source": [
    "<font size=\"4.5\"> Was ist Versionskontrolle? </font>"
   ]
  },
  {
   "cell_type": "markdown",
   "metadata": {},
   "source": [
    "<font size=\"3.5\"> Versionskontrollsysteme sind Werkzeuge zur Verwaltung von Änderungen an Dateien und Verzeichnissen in einem Projekt. Sie ermöglichen es Ihnen, den Überblick darüber zu behalten, was Sie wann getan haben, Änderungen rückgängig zu machen, die Sie nicht wollen, und in großem Umfang mit anderen zusammenzuarbeiten.  </font>"
   ]
  },
  {
   "cell_type": "markdown",
   "metadata": {},
   "source": [
    "<font size=\"4.5\"> Was ist Git? </font>"
   ]
  },
  {
   "cell_type": "markdown",
   "metadata": {},
   "source": [
    "<font size=\"3.5\">\n",
    "\n",
    "Git ist ein verteiltes Open-Source-Versionskontrollsystem. Es ermöglicht Entwicklern und Datenwissenschaftlern, Code zu verfolgen, Änderungen zusammenzuführen und zu älteren Versionen zurückzukehren. \n",
    "\n",
    "Es ermöglicht Ihnen, Änderungen mit einem entfernten Server zu synchronisieren. Aufgrund seiner Flexibilität und Beliebtheit hat sich Git zu einem Industriestandard entwickelt, da es fast alle Entwicklungsumgebungen, Befehlszeilentools und Betriebssysteme unterstützt.\n",
    "</font>"
   ]
  },
  {
   "cell_type": "markdown",
   "metadata": {},
   "source": [
    "<font size=\"4.5\"> Was ist GitHub? </font>"
   ]
  },
  {
   "cell_type": "markdown",
   "metadata": {},
   "source": [
    "<font size=\"3.5\">\n",
    "\n",
    "GitHub ist eine Cloud-Plattform für Softwareentwicklung. Sie wird häufig zum Speichern von Dateien, Verfolgen von Änderungen und zur Zusammenarbeit bei Entwicklungsprojekten verwendet. In den letzten Jahren hat sich GitHub zur beliebtesten sozialen Plattform für Softwareentwicklungsgemeinschaften entwickelt. Einzelpersonen können zu Open-Source-Projekten und Fehlerberichten beitragen, neue Projekte diskutieren und neue Tools entdecken. \n",
    "\n",
    "Datenwissenschaftler und Ingenieure für maschinelles Lernen folgen dem Weg der Softwareentwickler und integrieren den Arbeitsablauf in GitHub. Auf diese Weise können sie ihre Forschungsarbeit mit anderen teilen, Beiträge der Community ermöglichen und mit Datenteams zusammenarbeiten.\n",
    "</font>"
   ]
  },
  {
   "cell_type": "markdown",
   "metadata": {},
   "source": [
    "<font size=\"4.5\"> Grundlegende Begriffe </font>"
   ]
  },
  {
   "cell_type": "markdown",
   "metadata": {},
   "source": [
    "<font size=\"3.5\">\n",
    "\n",
    "- Lokal Repository: Ein lokales Verzeichnis mit Code und Dateien für das Projekt\n",
    "\n",
    "- Remote Repository: Eine Online-Version des lokalen Projektarchivs, die auf Diensten wie GitHub, GitLab und BitBucket gehostet wird\n",
    "\n",
    "- Cloning: Die Erstellung eines Klons oder einer Kopie eines Repositorys in einem neuen Verzeichnis\n",
    "\n",
    "- Commit: Ein Snapshot des Projekts, zu dem man zurückkehren kann\n",
    "\n",
    "- Branch: Eine Kopie des Projekts, die für die Arbeit in einer isolierten Umgebung verwendet wird, ohne das Hauptprojekt zu beeinflussen\n",
    "\n",
    "- Git-Merge: Der Prozess, bei dem zwei Branche miteinander kombiniert werden\n",
    "\n",
    "</font>"
   ]
  },
  {
   "cell_type": "markdown",
   "metadata": {},
   "source": [
    "<font size=\"4.5\"> Erweiterte Begriffe </font>"
   ]
  },
  {
   "cell_type": "markdown",
   "metadata": {},
   "source": [
    "<font size=\"3.5\">\n",
    "\n",
    "- .gitignore-file: Eine Datei, die andere Dateien auflistet, die Git nicht verfolgen soll (z. B. große Datenordner, private Informationen und alle lokalen Dateien, die nicht für die Öffentlichkeit sichtbar sein sollten).\n",
    "\n",
    "- Staging Area: Ein Zwischenspeicher für Änderungen, die Sie als nächstes übertragen wollen.\n",
    "\n",
    "- Git Stash: eine andere Art von Cache, in dem unerwünschte Änderungen gespeichert werden, auf die Sie später zurückkommen möchten.\n",
    "\n",
    "- Commit-ID oder Hash: eine eindeutige Kennung für jede Übertragung (Commit), mit der man zu verschiedenen Speicherpunkten wechseln kann.\n",
    "\n",
    "- HEAD (immer in Großbuchstaben): ein Referenzname für den letzten Commit, damit Sie nicht die Commit IDs eingeben müssen. Die Syntax HEAD~n wird verwendet, um auf ältere Commits zu verweisen (z.B. verweist HEAD~2 auf den vorletzten Commit).\n",
    "\n",
    "</font>"
   ]
  }
 ],
 "metadata": {
  "language_info": {
   "name": "python"
  }
 },
 "nbformat": 4,
 "nbformat_minor": 2
}
