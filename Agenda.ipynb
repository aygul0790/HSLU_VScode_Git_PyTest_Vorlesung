{
 "cells": [
  {
   "cell_type": "markdown",
   "metadata": {},
   "source": [
    "## Agenda \n",
    "\n",
    "<font size=\"3.5\"> [8.1 VS Code](08_01_VS_Code.ipynb)</font>\n",
    "\n",
    "<font size=\"3.5\"> [8.2 Extensions](08_02_Extensions.ipynb)</font>\n",
    "\n",
    "<font size=\"3.5\"> [8.3 Jupyter Notebook](08_03_Jupyter_Notebook.ipynb)</font>\n",
    "\n",
    "<font size=\"3.5\"> [8.4 Git Integration / GitOps](08_04_Git_Integration.ipynb)</font>\n",
    "\n",
    "<font size=\"3.5\"> [8.5 Unit testing / PyTest](08_05_Unit_Test_Pytest.ipynb)</font>\n",
    "\n",
    "<font size=\"3.5\"> [8.6 Debugging](08_06_Debugging.ipynb)</font>\n",
    "\n",
    "<font size=\"3.5\"> [8.7 Recap](08_07_Recap.ipynb)</font>"
   ]
  }
 ],
 "metadata": {
  "kernelspec": {
   "display_name": "Python 3",
   "language": "python",
   "name": "python3"
  },
  "language_info": {
   "codemirror_mode": {
    "name": "ipython",
    "version": 3
   },
   "file_extension": ".py",
   "mimetype": "text/x-python",
   "name": "python",
   "nbconvert_exporter": "python",
   "pygments_lexer": "ipython3",
   "version": "3.10.6"
  }
 },
 "nbformat": 4,
 "nbformat_minor": 2
}
