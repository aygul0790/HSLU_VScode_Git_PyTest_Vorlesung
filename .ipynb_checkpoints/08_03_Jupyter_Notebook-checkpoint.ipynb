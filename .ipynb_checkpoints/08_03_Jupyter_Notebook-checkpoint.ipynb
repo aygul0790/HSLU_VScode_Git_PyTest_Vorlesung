{
 "cells": [
  {
   "cell_type": "markdown",
   "metadata": {
    "slideshow": {
     "slide_type": "slide"
    }
   },
   "source": [
    "# 8.3 Jupyter Notebook in VS Code + Erweiterungen "
   ]
  },
  {
   "cell_type": "markdown",
   "metadata": {
    "slideshow": {
     "slide_type": "slide"
    }
   },
   "source": [
    "<font size=\"3.5\">\n",
    "\n",
    "Mit Visual Studio Code können Benutzer den Data Science-Code einfach in Jupyter Notebook ausführen. Wir können die Zelle ausführen und das Ergebnis in VS Code visualisieren. Es unterstützt alle Arten von Programmiersprachen und verfügt über integrierte Funktionen, um das browserbasierte Jupyter-Notebook zu imitieren, das wir alle mögen.\n",
    "\n",
    "</font>"
   ]
  },
  {
   "cell_type": "markdown",
   "metadata": {
    "slideshow": {
     "slide_type": "subslide"
    }
   },
   "source": [
    "<font size=\"3.5\">\n",
    "\n",
    "Hinweis: Jupyter Notebook und Jupyter Lab werden mit der Anaconda-Distribution geliefert, so dass wir nichts installieren müssen.\n",
    "\n",
    "Andernfalls (wenn Sie pip verwenden), führen Sie die folgenden Befehle aus:\n",
    "\n",
    "pip install jupyterlab\n",
    "\n",
    "pip install notebook\n",
    "\n",
    "</font>"
   ]
  },
  {
   "cell_type": "markdown",
   "metadata": {
    "slideshow": {
     "slide_type": "subslide"
    }
   },
   "source": [
    "<font size=\"3.5\">\n",
    "\n",
    "Sie können ein Jupyter-Notizbuch erstellen, indem Sie den Befehl Create: New Jupyter-Notebook aus der Befehlspalette (Ctrl+Shift+P) oder durch Erstellen einer neuen .ipynb-Datei in Ihrem Arbeitsbereich.\n",
    "\n",
    "Als nächstes wählen Sie einen Kernel aus, indem Sie den Kernel-Picker oben rechts verwenden.\n",
    "\n",
    "Nachdem Sie einen Kernel ausgewählt haben, wird die Sprachauswahl unten rechts in jeder Codezelle automatisch auf die vom Kernel unterstützte Sprache aktualisiert.\n",
    "\n",
    "</font>"
   ]
  },
  {
   "cell_type": "markdown",
   "metadata": {
    "slideshow": {
     "slide_type": "subslide"
    }
   },
   "source": [
    "![Example image](native-kernel-picker.png)"
   ]
  },
  {
   "cell_type": "markdown",
   "metadata": {
    "slideshow": {
     "slide_type": "subslide"
    }
   },
   "source": [
    "![Example image 2](native-language-picker-2.png)"
   ]
  },
  {
   "cell_type": "markdown",
   "metadata": {
    "slideshow": {
     "slide_type": "slide"
    }
   },
   "source": [
    "<font size=\"3.5\">\n",
    "\n",
    "Sie können ein Jupyter-Notizbuch als Python-Datei (.py), als PDF oder als HTML-Datei exportieren. Wählen Sie zum Exportieren die Aktion Exportieren in der Hauptsymbolleiste. Daraufhin wird eine Dropdown-Liste mit Dateiformatoptionen angezeigt.\n",
    "\n",
    "</font>"
   ]
  },
  {
   "cell_type": "markdown",
   "metadata": {
    "slideshow": {
     "slide_type": "subslide"
    }
   },
   "source": [
    "![Example image 2](native-toolbar-export.png)"
   ]
  },
  {
   "cell_type": "markdown",
   "metadata": {
    "slideshow": {
     "slide_type": "slide"
    }
   },
   "source": [
    "<font size=\"5\">\n",
    "\n",
    "IntelliSense Support in Jupyter Notebook\n",
    "\n",
    "</font>"
   ]
  },
  {
   "cell_type": "markdown",
   "metadata": {
    "slideshow": {
     "slide_type": "subslide"
    }
   },
   "source": [
    "<font size=\"3.5\">\n",
    "\n",
    "Das Python Jupyter Notebook-Editor-Fenster verfügt über vollständiges IntelliSense - Code-Vervollständigungen, Mitgliederlisten, Methoden-Tooltips und Parameter-Hinweise. Sie können beim Tippen im Notebook-Editor-Fenster genauso produktiv sein wie im Code-Editor.\n",
    "\n",
    "</font>"
   ]
  },
  {
   "cell_type": "markdown",
   "metadata": {
    "slideshow": {
     "slide_type": "skip"
    }
   },
   "source": [
    "<font size=\"5\">\n",
    "\n",
    "Notebook Erweiterungen\n",
    "\n",
    "</font>"
   ]
  },
  {
   "cell_type": "markdown",
   "metadata": {
    "slideshow": {
     "slide_type": "skip"
    }
   },
   "source": [
    "<font size=\"3.5\">\n",
    "\n",
    "1. Schritt\n",
    "\n",
    "Für pip installation benutzen Sie folgendes:\n",
    "\n",
    "pip install jupyter_contrib_nbextensions\n",
    "\n",
    "pip install jupyter_nbextensions_configurator\n",
    "\n",
    "\n",
    "Für conda benutzen Sie folgendes:\n",
    "\n",
    "conda install -c conda-forge jupyter_contrib_nbextensions\n",
    "\n",
    "2. Schritt\n",
    "\n",
    "jupyter contrib nbextension install --user\n",
    "\n",
    "jupyter nbextensions_configurator enable --user\n",
    "\n",
    "\n",
    "3. Schritt\n",
    "\n",
    "jupyter nbextension enable toc2/main\n",
    "\n",
    "jupyter nbextension enable collapsible_headings/main\n",
    "\n",
    "jupyter nbextension enable spellchecker/main\n",
    "\n",
    "jupyter nbextension enable code_prettify/code_prettify\n",
    "\n",
    "\n",
    "Hinweis: achten Sie auf die Kompatibilität der verschiedenen Versionen "
   ]
  },
  {
   "cell_type": "markdown",
   "metadata": {},
   "source": [
    "<font size=\"3.5\">\n",
    "\n",
    "Documentation: https://jupyter-contrib-nbextensions.readthedocs.io/en/latest/install.html\n",
    "\n",
    "</font>"
   ]
  },
  {
   "cell_type": "markdown",
   "metadata": {},
   "source": [
    "![Example image](jupyter_nbextensions.png)"
   ]
  },
  {
   "cell_type": "markdown",
   "metadata": {},
   "source": [
    "<font size=\"3.5\">\n",
    "\n",
    "Mehr Info: https://towardsdatascience.com/jupyter-notebook-extensions-517fa69d2231\n",
    "\n",
    "</font>"
   ]
  },
  {
   "cell_type": "markdown",
   "metadata": {},
   "source": [
    "<font size=\"5\">\n",
    "\n",
    "Notebook-basierte Präsentationen\n",
    "\n",
    "</font>"
   ]
  },
  {
   "cell_type": "markdown",
   "metadata": {
    "slideshow": {
     "slide_type": "slide"
    }
   },
   "source": [
    "<font size=\"3.5\">\n",
    "\n",
    "Schritt 1️⃣: \n",
    "\n",
    "1) Vorbereiten eines sauberen Notebooks\n",
    "\n",
    "<br>\n",
    "\n",
    "2) Auswahl des Zellträgertyps aktivieren\n",
    "\n",
    "Jupyter Notebook: Ansicht → Zellen-Symbolleiste → Diashow\n",
    "\n",
    "Jupyter Labor: Ansicht → Rechte Si anzeigen\n",
    "\n",
    "VS-Code: Rechtsklick auf die Statusleiste einer Zelle (unten) → Folientyp wechseln\n",
    "\n",
    "<br>\n",
    "\n",
    "3) Wählen Sie den Folientyp für jede Zelle\n",
    "\n",
    "Slide → Hauptkapitel\n",
    "\n",
    "Sub-Slide → neue Folie unterhalb des Hauptkapitels\n",
    "\n",
    "Fragment → Teilmenge der Folie direkt darüber, erscheint beim Drücken des Pfeils nach unten\n",
    "\n",
    "<br>\n",
    "\n",
    "'-' = Anzeige unmittelbar nach der darüber liegenden Zelle\n",
    "\n",
    "Überspringen = wird nicht angezeigt (blendet z. B. die Codelogik aus)\n",
    "\n",
    "Notizen = wird nicht angezeigt, für private Notizen\n",
    "\n",
    "<br>\n",
    "\n",
    "Schritt 2️⃣: Mit Jupyter nbconvert in ein statisches, auf Folien basierendes HTML-Dokument konvertieren\n",
    "\n",
    "jupyter nbconvert --to slides --post serve <your_notebook.ipynb>\n",
    "\n",
    "\n",
    "</font>"
   ]
  },
  {
   "cell_type": "markdown",
   "metadata": {
    "slideshow": {
     "slide_type": "subslide"
    }
   },
   "source": [
    "<font size=\"3.5\">\n",
    "\n",
    "Einige zusätzliche Tipps\n",
    "\n",
    "<br>\n",
    "\n",
    "Verwenden Sie Markdown für ... alles! 👉 [Markdown-Cheatsheet](https://github.com/adam-p/markdown-here/wiki/Markdown-Cheatsheet) \n",
    "\n",
    "Verwenden Sie HTML für Stil und Bilder 👉 [HTML-Cheatsheet](https://htmlcheatsheet.com/)\n",
    "\n",
    "Benutze LaTeX für Mathematik! 👉 [LaTeX-Cheatsheet](https://wch.github.io/latexsheet/latexsheet-a4.pdf) \n",
    "\n",
    "<br>\n",
    "\n",
    "Denken Sie daran: Wenn Sie ein interaktives Notizbuch gemeinsam nutzen wollen, seien Sie vorsichtig mit Abhängigkeiten (Importe/Pakete)\n",
    "\n",
    "<br>\n",
    "\n",
    "Verwenden Sie ausklappbare Überschriften und Inhaltsverzeichnisse\n",
    "\n",
    "Notizbücher sollten von oben nach unten ausführbar sein\n",
    "\n",
    "</font>"
   ]
  },
  {
   "cell_type": "markdown",
   "metadata": {},
   "source": [
    "<font size=\"5\">\n",
    "\n",
    "Productivity Hacks\n",
    "\n",
    "</font>"
   ]
  },
  {
   "cell_type": "markdown",
   "metadata": {},
   "source": [
    "<font size=\"3.5\">\n",
    "\n",
    "%load_ext autoreload\n",
    "\n",
    "%autoreload 2\n",
    "\n",
    "Rufen Sie die IPython Autoreload-Erweiterung auf, um zu vermeiden, dass der Kernel jedes Mal neu gestartet wird, wenn Sie die .py-Datei in Ihrem Paket ändern.\n",
    "\n",
    "</font>"
   ]
  },
  {
   "cell_type": "code",
   "execution_count": 4,
   "metadata": {},
   "outputs": [
    {
     "name": "stdout",
     "output_type": "stream",
     "text": [
      "The autoreload extension is already loaded. To reload it, use:\n",
      "  %reload_ext autoreload\n"
     ]
    }
   ],
   "source": [
    "%load_ext autoreload\n",
    "%autoreload 2\n"
   ]
  },
  {
   "cell_type": "code",
   "execution_count": 5,
   "metadata": {},
   "outputs": [
    {
     "name": "stdout",
     "output_type": "stream",
     "text": [
      "Hello, PROG class!\n"
     ]
    }
   ],
   "source": [
    "import simple_module\n",
    "\n",
    "print(simple_module.hello())\n"
   ]
  }
 ],
 "metadata": {
  "kernelspec": {
   "display_name": "Python 3 (ipykernel)",
   "language": "python",
   "name": "python3"
  },
  "language_info": {
   "codemirror_mode": {
    "name": "ipython",
    "version": 3
   },
   "file_extension": ".py",
   "mimetype": "text/x-python",
   "name": "python",
   "nbconvert_exporter": "python",
   "pygments_lexer": "ipython3",
   "version": "3.10.6"
  },
  "toc": {
   "base_numbering": 1,
   "nav_menu": {},
   "number_sections": true,
   "sideBar": true,
   "skip_h1_title": false,
   "title_cell": "Table of Contents",
   "title_sidebar": "Contents",
   "toc_cell": false,
   "toc_position": {},
   "toc_section_display": true,
   "toc_window_display": false
  }
 },
 "nbformat": 4,
 "nbformat_minor": 2
}
