{
 "cells": [
  {
   "cell_type": "markdown",
   "metadata": {},
   "source": [
    "# 8.2 VS Code: Wesentliche Erweiterungen für Python"
   ]
  },
  {
   "cell_type": "markdown",
   "metadata": {},
   "source": [
    "<font size=\"3.5\"> Die Python-Erweiterungen von VS Code bieten uns hilfreiche Funktionen für Code-Editierung, Docstrings, Linting, Formatierung, Debugging, Testen und Umgebungsauswahl. </font>"
   ]
  },
  {
   "cell_type": "markdown",
   "metadata": {},
   "source": [
    "<font size=\"5\"> Installation einer VS Code-Erweiterung </font>"
   ]
  },
  {
   "cell_type": "markdown",
   "metadata": {},
   "source": [
    "<font size=\"3.5\"> Klicken Sie auf das Box-Symbol in der Aktivitätsleiste oder verwenden Sie ein Tastaturkürzel: Ctrl + Shift + X, um das Erweiterungs-Panel zu öffnen. Geben Sie ein beliebiges Stichwort in die Suchleiste ein, um alle Arten von Erweiterungen zu finden. </font>"
   ]
  },
  {
   "cell_type": "markdown",
   "metadata": {},
   "source": [
    "![Example image](Install_VS_Code_Python_extension.png)"
   ]
  },
  {
   "cell_type": "markdown",
   "metadata": {},
   "source": [
    "<font size=\"3.5\"> In unserem Fall geben wir Python ein und installieren die Python-Erweiterung, indem wir auf die Schaltfläche Installieren klicken, wie oben gezeigt. </font>"
   ]
  },
  {
   "cell_type": "markdown",
   "metadata": {},
   "source": [
    "<font size=\"5\"> Liste der wesentlichen Python-Erweiterungen </font>"
   ]
  },
  {
   "cell_type": "markdown",
   "metadata": {},
   "source": [
    "<font size=\"3.5\">\n",
    "\n",
    "1. [Python](https://marketplace.visualstudio.com/items?itemName=ms-python.python)\n",
    "\n",
    "Die Python-Erweiterung installiert automatisch die Erweiterungen [Pylance](https://marketplace.visualstudio.com/items?itemName=ms-python.vscode-pylance), [Jupyter](https://marketplace.visualstudio.com/items?itemName=ms-toolsai.jupyter) und [isort](https://marketplace.visualstudio.com/items?itemName=ms-python.isort). Sie enthält eine komplette Sammlung von Tools für Data Science, Webentwicklung und Software Engineering. \n",
    "\n",
    "Hauptmerkmale:\n",
    "\n",
    "Die Python-Erweiterung bietet IntelliSense, Linting, Debugging, Code-Navigation, Code-Formatierung, Refactoring, Variablen-Explorer und Test-Explorer.\n",
    "\n",
    "- [IntelliSense](https://code.visualstudio.com/docs/python/editing#_autocomplete-and-intellisense) (Code-Autovervollständigung)\n",
    "- [Linting](https://code.visualstudio.com/docs/python/linting) (Pylint, Flake8: markiert syntaktische Probleme)\n",
    "- [Code Formatting](https://code.visualstudio.com/docs/python/editing#_formatting) (schwarz, autopep8: formatierung gemäß dem PEP 8 style)\n",
    "- [Debugging](https://code.visualstudio.com/docs/python/debugging)\n",
    "- [Testing](https://code.visualstudio.com/docs/python/testing) (unittest, pytest)\n",
    "- [Jupyter Notebook](https://code.visualstudio.com/docs/datascience/jupyter-notebooks)\n",
    "- [Virtual Environments](https://code.visualstudio.com/docs/python/environments) (venv, pipenv, conda)\n",
    "- [Refactoring](https://code.visualstudio.com/docs/python/editing#_refactoring)\n",
    "\n",
    "</font>"
   ]
  },
  {
   "cell_type": "markdown",
   "metadata": {},
   "source": [
    "<font size=\"3.5\">\n",
    "\n",
    "2. [Python Indent](https://marketplace.visualstudio.com/items?itemName=KevinRose.vsc-python-indent)\n",
    "\n",
    "Die Erweiterung Python Indent hilft uns bei der Erstellung von Einrückungen. Wenn Sie die Eingabetaste drücken, analysiert die Erweiterung die Python-Datei und bestimmt, wie die nächste Zeile eingerückt werden soll. Das spart Zeit.\n",
    "\n",
    "</font>"
   ]
  },
  {
   "cell_type": "markdown",
   "metadata": {},
   "source": [
    "<font size=\"3.5\">\n",
    "\n",
    "3. [Indent-rainbow](https://marketplace.visualstudio.com/items?itemName=oderwat.indent-rainbow)\n",
    "\n",
    "Indent-rainbow-Erweiterung bietet uns eine mehrstufige, farbige Einrückung für eine bessere Lesbarkeit des Codes. Wir erhalten abwechselnde Farben auf jeder Stufe, und es hilft uns, häufige Einrückungsfehler zu vermeiden.\n",
    "\n",
    "</font>"
   ]
  },
  {
   "cell_type": "markdown",
   "metadata": {},
   "source": [
    "<font size=\"3.5\">\n",
    "\n",
    "4. [Auto-docstring](https://marketplace.visualstudio.com/items?itemName=njpwerner.autodocstring)\n",
    "\n",
    "Die autoDocstring-Erweiterung hilft uns, schnell Docstring für Python-Funktionen zu erzeugen. Durch die Eingabe von dreifachen Anführungszeichen \"\"\" oder ''' innerhalb der Funktion können wir Docstring erzeugen und ändern.\n",
    "\n",
    "</font>"
   ]
  },
  {
   "cell_type": "markdown",
   "metadata": {},
   "source": [
    "<font size=\"5\">\n",
    "\n",
    "Optionale Erweiterungen\n",
    "\n",
    "</font>"
   ]
  },
  {
   "cell_type": "markdown",
   "metadata": {},
   "source": [
    "<font size=\"3.5\">\n",
    "\n",
    "1. [Live Share](https://marketplace.visualstudio.com/items?itemName=MS-vsliveshare.vsliveshare)\n",
    "\n",
    "Visual Studio Live Share ist eine VS Code-Erweiterung, die es Ihnen ermöglicht, den Code in Ihrem Texteditor für Debugging und Pair-Programming freizugeben. \n",
    "\n",
    "Klicken Sie auf den kleinen Pfeil unten in der linken Leiste 👇.\n",
    "\n",
    "</font>"
   ]
  },
  {
   "cell_type": "markdown",
   "metadata": {},
   "source": [
    "![Example image](vscode_live_share.png)"
   ]
  },
  {
   "cell_type": "markdown",
   "metadata": {},
   "source": [
    "<font size=\"3.5\">\n",
    "\n",
    "- Klicken Sie auf die Schaltfläche \"Teilen\" und dann auf \"GitHub (mit GitHub-Konto anmelden)\".\n",
    "\n",
    "- Es erscheint ein Popup, in dem Sie aufgefordert werden, sich bei GitHub anzumelden: Klicken Sie auf \"Zulassen\".\n",
    "Sie werden zu einer GitHub-Seite in Ihrem Browser weitergeleitet, auf der Sie aufgefordert werden, Visual Studio Code zu autorisieren: Klicken Sie auf \"Weiter\" und dann auf \"GitHub autorisieren\".\n",
    "\n",
    "VS Code zeigt möglicherweise weitere Pop-ups an: Schließen Sie diese, indem Sie auf \"OK\" klicken.\n",
    "\n",
    "</font>"
   ]
  },
  {
   "cell_type": "markdown",
   "metadata": {},
   "source": [
    "<font size=\"3.5\">\n",
    "\n",
    "2. [Great Icons](https://marketplace.visualstudio.com/items?itemName=emmanuelbeziat.vscode-great-icons) (ein Paket von Symbolen für Ihre Dateien)\n",
    "\n",
    "3. [Sublime Keymap and Settings Importer](https://marketplace.visualstudio.com/items?itemName=ms-vscode.sublime-keybindings) (wird verwendet für Tastenkombinationen)\n",
    "\n",
    "</font>"
   ]
  }
 ],
 "metadata": {
  "kernelspec": {
   "display_name": "aygul",
   "language": "python",
   "name": "python3"
  },
  "language_info": {
   "codemirror_mode": {
    "name": "ipython",
    "version": 3
   },
   "file_extension": ".py",
   "mimetype": "text/x-python",
   "name": "python",
   "nbconvert_exporter": "python",
   "pygments_lexer": "ipython3",
   "version": "3.10.6"
  }
 },
 "nbformat": 4,
 "nbformat_minor": 2
}
